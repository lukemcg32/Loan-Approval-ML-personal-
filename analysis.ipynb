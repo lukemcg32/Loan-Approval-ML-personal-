{
 "cells": [
  {
   "cell_type": "code",
   "execution_count": 29,
   "metadata": {},
   "outputs": [],
   "source": [
    "# source myenv/bin/activate\n",
    "import pandas as pd\n",
    "import numpy as np\n",
    "import matplotlib as mat\n",
    "import seaborn as sb\n",
    "import sklearn as sk\n",
    "import torch as tt\n",
    "import torchvision as ttv\n",
    "import statsmodels.api as sm"
   ]
  },
  {
   "cell_type": "code",
   "execution_count": 42,
   "metadata": {},
   "outputs": [
    {
     "name": "stdout",
     "output_type": "stream",
     "text": [
      "Column:  Text\n",
      "0\n",
      "Column:  Income\n",
      "0\n",
      "Column:  Credit_Score\n",
      "0\n",
      "Column:  Loan_Amount\n",
      "0\n",
      "Column:  DTI_Ratio\n",
      "0\n",
      "Column:  Employment_Status\n",
      "0\n",
      "Column:  Approval\n",
      "0\n"
     ]
    }
   ],
   "source": [
    "# load data and check to see how many nulls in each category we have\n",
    "\n",
    "data = pd.read_csv(\"loan_data.csv\")\n",
    "\n",
    "def null_nums(list):\n",
    "    for l in list:\n",
    "        print(\"Column: \", l)\n",
    "        print(data[l].isnull().sum())\n",
    "\n",
    "list = ['Text', 'Income', 'Credit_Score', 'Loan_Amount', 'DTI_Ratio',\n",
    "       'Employment_Status', 'Approval']\n",
    "\n",
    "null_nums(list)"
   ]
  },
  {
   "cell_type": "markdown",
   "metadata": {},
   "source": [
    "It's looking like our Kaggle dataset is clean with no null values.\n",
    "\n",
    "- for our categorical types...\n",
    "    - Employemnt_Status has employed and unemployed which will be converted to 0 and 1\n",
    "    - Approval has Approved and Rejected which will be converted to 0 and 1 as well\n"
   ]
  },
  {
   "cell_type": "code",
   "execution_count": 47,
   "metadata": {},
   "outputs": [],
   "source": [
    "# change categoricals to 0s and 1s\n",
    "\n",
    "data['Approval'].replace(['Approved', 'Rejected'], [1,0], inplace=True)\n",
    "data['Employment_Status'].replace(['employed', 'unemployed'], [1,0], inplace=True)"
   ]
  },
  {
   "cell_type": "code",
   "execution_count": 49,
   "metadata": {},
   "outputs": [
    {
     "name": "stdout",
     "output_type": "stream",
     "text": [
      "                            OLS Regression Results                            \n",
      "==============================================================================\n",
      "Dep. Variable:               Approval   R-squared:                       0.389\n",
      "Model:                            OLS   Adj. R-squared:                  0.389\n",
      "Method:                 Least Squares   F-statistic:                     3056.\n",
      "Date:                Sat, 03 May 2025   Prob (F-statistic):               0.00\n",
      "Time:                        09:24:23   Log-Likelihood:                -4289.8\n",
      "No. Observations:               24000   AIC:                             8592.\n",
      "Df Residuals:                   23994   BIC:                             8640.\n",
      "Df Model:                           5                                         \n",
      "Covariance Type:            nonrobust                                         \n",
      "=====================================================================================\n",
      "                        coef    std err          t      P>|t|      [0.025      0.975]\n",
      "-------------------------------------------------------------------------------------\n",
      "const                -0.4351      0.010    -42.290      0.000      -0.455      -0.415\n",
      "Income             1.338e-06   5.46e-08     24.499      0.000    1.23e-06    1.45e-06\n",
      "Credit_Score          0.0008   1.17e-05     68.673      0.000       0.001       0.001\n",
      "Loan_Amount       -2.638e-06   6.68e-08    -39.513      0.000   -2.77e-06   -2.51e-06\n",
      "DTI_Ratio            -0.0017   7.65e-05    -22.081      0.000      -0.002      -0.002\n",
      "Employment_Status     0.3264      0.004     87.379      0.000       0.319       0.334\n",
      "==============================================================================\n",
      "Omnibus:                     1659.514   Durbin-Watson:                   1.995\n",
      "Prob(Omnibus):                  0.000   Jarque-Bera (JB):             1770.895\n",
      "Skew:                           0.629   Prob(JB):                         0.00\n",
      "Kurtosis:                       2.564   Cond. No.                     7.27e+05\n",
      "==============================================================================\n",
      "\n",
      "Notes:\n",
      "[1] Standard Errors assume that the covariance matrix of the errors is correctly specified.\n",
      "[2] The condition number is large, 7.27e+05. This might indicate that there are\n",
      "strong multicollinearity or other numerical problems.\n"
     ]
    }
   ],
   "source": [
    "# run an Ordinary Least Square on Approval to see what strongest correlations are\n",
    "# we will process Text later\n",
    "\n",
    "x = data[['Income', 'Credit_Score', 'Loan_Amount', 'DTI_Ratio', 'Employment_Status']]\n",
    "x = sm.add_constant(x)\n",
    "y = data['Approval']\n",
    "\n",
    "\n",
    "result = sm.OLS(y, x).fit()\n",
    "print(result.summary())"
   ]
  },
  {
   "cell_type": "code",
   "execution_count": null,
   "metadata": {},
   "outputs": [],
   "source": []
  }
 ],
 "metadata": {
  "kernelspec": {
   "display_name": "myenv",
   "language": "python",
   "name": "python3"
  },
  "language_info": {
   "codemirror_mode": {
    "name": "ipython",
    "version": 3
   },
   "file_extension": ".py",
   "mimetype": "text/x-python",
   "name": "python",
   "nbconvert_exporter": "python",
   "pygments_lexer": "ipython3",
   "version": "3.13.3"
  }
 },
 "nbformat": 4,
 "nbformat_minor": 2
}
